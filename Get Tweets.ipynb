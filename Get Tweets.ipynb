{
 "cells": [
  {
   "cell_type": "code",
   "execution_count": 5,
   "metadata": {
    "collapsed": false
   },
   "outputs": [
    {
     "name": "stdout",
     "output_type": "stream",
     "text": [
      "                  tweet_id     user_id\n",
      "0       524349343353294848  1464599533\n",
      "1       524349351259566080  1435309448\n",
      "2       524349355528945664    19932466\n",
      "3       524349359601635329   940132086\n",
      "4       524349361074212864  1945343251\n",
      "5       524349365431709696  2772953185\n",
      "6       524349369152458753  2683063328\n",
      "7       524349374168453120   513001579\n",
      "8       524349375829381120   162572003\n",
      "9       524349376588562433  2826306403\n",
      "10      524349379772026881    16641565\n",
      "11      524349382523904000  2756873076\n",
      "12      524349386201899008   486160284\n",
      "13      524349392296615936    18746944\n",
      "14      524349393584267264  2323141220\n",
      "15      524349395152945152  2793171236\n",
      "16      524349402928787457    18623405\n",
      "17      524349402551697410   171848975\n",
      "18      524349403109130240  2549103608\n",
      "19      524349407542513664    36790442\n",
      "20      524349411430658049  2835488103\n",
      "21      524349412122697728  1043436650\n",
      "22      524349414908108801  2837972170\n",
      "23      524349420444602369    22655375\n",
      "24      524349421291835392  1655032075\n",
      "25      524349424172937216   205618606\n",
      "26      524349425586434050    35277914\n",
      "27      524349424181739520  1858786956\n",
      "28      524349429172539392  2790540392\n",
      "29      524349433966632960   262538589\n",
      "...                    ...         ...\n",
      "316639  525436417129070592   224461011\n",
      "316640  525436427224752130   226828325\n",
      "316641  525436427975548928    60792284\n",
      "316642  525436431029002240   431203505\n",
      "316643  525436434690629632  2842160277\n",
      "316644  525436444039729153  2516075665\n",
      "316645  525436449362288642   304377933\n",
      "316646  525436451711115264    18746944\n",
      "316647  525436453204295680   113137765\n",
      "316648  525436456048001024     8038532\n",
      "316649  525436457457307648   867608816\n",
      "316650  525436459608981505    35277914\n",
      "316651  525436466944802817  2857523995\n",
      "316652  525436470027616256  2814008060\n",
      "316653  525436472334491648  2205759579\n",
      "316654  525436472909135874  2760592636\n",
      "316655  525436475023032321    75425858\n",
      "316656  525436475488616448  1391985114\n",
      "316657  525436475588878336  2817149054\n",
      "316658  525436476482670593   317960648\n",
      "316659  525436477837438976   816532555\n",
      "316660  525436478802108417  2781237630\n",
      "316661  525436481301524480  2835475103\n",
      "316662  525436481985605632   788696245\n",
      "316663  525436483935961088    10037992\n",
      "316664  525436487073284096    24007570\n",
      "316665  525436491238227968    70673267\n",
      "316666  525436493545095168  1925202128\n",
      "316667  525436493528322048    45380208\n",
      "316668  525436505620512769   494123018\n",
      "\n",
      "[316669 rows x 2 columns]\n"
     ]
    }
   ],
   "source": [
    "#get dataframe of tweet_id and user_id\n",
    "import pandas\n",
    "import csv\n",
    "\n",
    "df = pandas.read_csv('gamergate_tweets.csv')\n",
    "print df"
   ]
  },
  {
   "cell_type": "code",
   "execution_count": 6,
   "metadata": {
    "collapsed": false
   },
   "outputs": [
    {
     "name": "stdout",
     "output_type": "stream",
     "text": [
      "[524349343353294848, 524349351259566080, 524349355528945664, 524349359601635329, 524349361074212864, 524349365431709696, 524349369152458753, 524349374168453120, 524349375829381120, 524349376588562433, 524349379772026881, 524349382523904000, 524349386201899008, 524349392296615936, 524349393584267264, 524349395152945152, 524349402928787457, 524349402551697410, 524349403109130240, 524349407542513664, 524349411430658049, 524349412122697728, 524349414908108801, 524349420444602369, 524349421291835392, 524349424172937216, 524349425586434050, 524349424181739520, 524349429172539392, 524349433966632960, 524349436093136896, 524349437477273600, 524349439105069056, 524349446700552192, 524349448285995009, 524349448345104385, 524349456024870913, 524349456301293568, 524349459572862976, 524349461741731840, 524349462907351040, 524349467752140801, 524349473762201600, 524349473758404608, 524349474635010048, 524349475364818945, 524349480246587392, 524349482872229889, 524349484067598336, 524349490825003008, 524349493035425792, 524349496718000128, 524349496579592192, 524349497816535040, 524349498751868929, 524349499871748096, 524349504993361921, 524349509300527104, 524349513377386496, 524349516837703680, 524349516640952320, 524349521795362817, 524349524404604929, 524349526434664449, 524349528216858624, 524349528464310272, 524349534629937152, 524349539038150657, 524349539466371072, 524349548001378304, 524349557497663488, 524349559783165954, 524349561234792448, 524349563457380353, 524349563906179072, 524349567093858304, 524349573385707520, 524349580683399170, 524349582587613184, 524349584282484737, 524349585016098818, 524349585020698624, 524349586497101825, 524349586974855169, 524349587058720768, 524349587969277952, 524349591760957440, 524349596244639745, 524349597528121344, 524349599096774656, 524349600576987137, 524349600694829056, 524349602040782848, 524349605337513984, 524349608302891008, 524349611826499584, 524349618365018112, 524349618918653953, 524349622333243392, 524349623679590400]\n"
     ]
    }
   ],
   "source": [
    "#get first 100 tweet_ids\n",
    "id_list = df[\"tweet_id\"].tolist()\n",
    "current = id_list[:100]\n",
    "print current"
   ]
  },
  {
   "cell_type": "code",
   "execution_count": 7,
   "metadata": {
    "collapsed": false
   },
   "outputs": [
    {
     "name": "stdout",
     "output_type": "stream",
     "text": [
      "https://api.twitter.com/1.1/statuses/lookup.json?id=524349343353294848,524349351259566080,524349355528945664,524349359601635329,524349361074212864,524349365431709696,524349369152458753,524349374168453120,524349375829381120,524349376588562433,524349379772026881,524349382523904000,524349386201899008,524349392296615936,524349393584267264,524349395152945152,524349402928787457,524349402551697410,524349403109130240,524349407542513664,524349411430658049,524349412122697728,524349414908108801,524349420444602369,524349421291835392,524349424172937216,524349425586434050,524349424181739520,524349429172539392,524349433966632960,524349436093136896,524349437477273600,524349439105069056,524349446700552192,524349448285995009,524349448345104385,524349456024870913,524349456301293568,524349459572862976,524349461741731840,524349462907351040,524349467752140801,524349473762201600,524349473758404608,524349474635010048,524349475364818945,524349480246587392,524349482872229889,524349484067598336,524349490825003008,524349493035425792,524349496718000128,524349496579592192,524349497816535040,524349498751868929,524349499871748096,524349504993361921,524349509300527104,524349513377386496,524349516837703680,524349516640952320,524349521795362817,524349524404604929,524349526434664449,524349528216858624,524349528464310272,524349534629937152,524349539038150657,524349539466371072,524349548001378304,524349557497663488,524349559783165954,524349561234792448,524349563457380353,524349563906179072,524349567093858304,524349573385707520,524349580683399170,524349582587613184,524349584282484737,524349585016098818,524349585020698624,524349586497101825,524349586974855169,524349587058720768,524349587969277952,524349591760957440,524349596244639745,524349597528121344,524349599096774656,524349600576987137,524349600694829056,524349602040782848,524349605337513984,524349608302891008,524349611826499584,524349618365018112,524349618918653953,524349622333243392,524349623679590400\n"
     ]
    }
   ],
   "source": [
    "#make request to Twitter API\n",
    "\n",
    "print \"https://api.twitter.com/1.1/statuses/lookup.json?id=\" + (str(current).strip('[]')).replace(\" \", '')"
   ]
  },
  {
   "cell_type": "code",
   "execution_count": 13,
   "metadata": {
    "collapsed": false
   },
   "outputs": [
    {
     "name": "stdout",
     "output_type": "stream",
     "text": [
      "RT @misterbrilliant: First scene from the new series of Firefly has been leaked. #GamerGate http://t.co/5D3OMkwOfd\n",
      "RT @CriticalKelly: .@CheesyDaedra when i got tired, i slept. When i got Hungry, I Ate. &amp; when i had to, Ya Know, I did. Life is like a box …\n",
      "@canar Mercedes-Benz didn't even revert. Just another bit of nonsense that somehow got published. Ethics. #gamergate #notyourshield\n",
      "RT @TheRalphRetort: STORY UPDATED: Gawker's @max_read tries to bully @CHSommers with sexist comment. http://t.co/7ZOBTXmTzJ\n",
      "\n",
      "#GamerGate htt…\n",
      "RT @HowardPhilpott: So sick of seeing #gamergate on my social feeds. No matter your gender, race or age, game development is for everyone. …\n",
      ".@daddy_warpig's stream is live @ http://t.co/5ty60mHBF5 #GamerGate #NotYourShield #GGStream\n",
      "Whelp, time to get at it, #GamerGate. http://t.co/CptWlFBWQx\n",
      "RT @wikileaks: #GamerGate'ers should know that the pattern of censorship &amp; cronyism they see is mirrored at the very top. Level up: https:/…\n",
      "RT @CHSommers: Why is Wash Post taking sides rather than offering readers honest account of both sides of #Gamergate? @caitlindewey http://…\n",
      "RT @Brad_D80: Still lying about #GamerGate. At this point they cant claim they just dont understand, @msnbc is malicious now. http://t.co/R…\n",
      "I added a video to a @YouTube playlist http://t.co/4Co4bJPFOg Digital Joyride: The Anita Sarkeesian Syndrome Part 2 #GamerGate\n",
      "RT @BooneGroown: Co-Creator of #NotYourShield\n",
      "Doxxed by SJWs.\n",
      "Got him FIRED from job\n",
      "Now starting non-profit to teach CODE\n",
      "https://t.co/9AU…\n",
      "RT @waxpancake: The last 20 hours of #gamergate and #notyourshield tweets, charted by the month they joined Twitter. http://t.co/En4wCb1cKN\n",
      "RT @LibertarianBlue: #GamerGate has turned the tactics of the authoritarian left against it: http://t.co/Ups5W5odLH\n",
      "RT @CHSommers: Why is Wash Post taking sides rather than offering readers honest account of both sides of #Gamergate? @caitlindewey http://…\n",
      "few apologies here, positive pr moves here and people not sticking their feet in their mouths over there. coulda stopped this #GamerGate\n",
      "RT @Toshi_TNE: #GamerGate Show them how tired we are. http://t.co/We0IRAngN6\n",
      "RT @Sen_Armstrong: #GamerGate &amp; #NotYourShield \n",
      "See this pic? Be respectful and polite w/ TMobile and focus on the main points here. http:/…\n",
      "hey if Kotaku is tired of #GamerGate why don't they just make some simple ethical changes and stick to it?\n",
      "@RogueStarGamez @SerialExpansion @whisthiseven @wikileaks WE ARE HL3. WE ARE ALL FREEMEN. Yes even the girls. Instant goatee poof #Gamergate\n",
      "RT @milky_candy: BESIDES POLITICAL INTEREST THERE IS LARGE CORPORATE INTEREST BEHIND ANTI #GAMERGATE  http://t.co/3YT7oNP3j0 by @OdinRunema…\n",
      "RT @Sen_Armstrong: #GamerGate &amp; #NotYourShield \n",
      "See this pic? Be respectful and polite w/ TMobile and focus on the main points here. http:/…\n",
      "@DucklingGuns I'm not saying #GamerGate invented it. But many of them use it.\n",
      "RT @CHSommers: Why is Wash Post taking sides rather than offering readers honest account of both sides of #Gamergate? @caitlindewey http://…\n",
      "@Rigatorsrift it worked for the Escapist - I don't see #GamerGate messing with them any more.\n",
      "@TripleSK7 @theLEOpirate @Spacekatgal She thinks we've been hurt...? Our tweets have never been higher nor effect more tangible. #GamerGate\n",
      "RT @CHSommers: #GamerGate is diverse.Lots of lefties,liberals, &amp; moderates. When @Gawker or @washingtonpost attack, they attack own readers…\n",
      "RT @MildlyAmused: Literally how #GamerGate looks to the rest of the world today. #StopGamerGate2014  http://t.co/5P1rYt0KzA http://t.co/004…\n",
      "RT @CHSommers: Why is Wash Post taking sides rather than offering readers honest account of both sides of #Gamergate? @caitlindewey http://…\n",
      "RT @CHSommers: #GamerGate is diverse.Lots of lefties,liberals, &amp; moderates. When @Gawker or @washingtonpost attack, they attack own readers…\n",
      "RT @Sen_Armstrong: #GamerGate &amp; #NotYourShield \n",
      "See this pic? Be respectful and polite w/ TMobile and focus on the main points here. http:/…\n",
      "RT @CHSommers: #GamerGate is diverse.Lots of lefties,liberals, &amp; moderates. When @Gawker or @washingtonpost attack, they attack own readers…\n",
      "RT @AnthonyGillis: @josswhedon if you think #GamerGate means hate, then you've been misled by the very self-appointed censors who would hap…\n",
      "RT @Brad_D80: .@Ixen_Kepesk @msnbc Could have gotten people to actual watch thier shit channel if they had just been honest about #GamerGat…\n",
      "Editorial: #Gamergate exemplifies the issues within gaming culture. http://t.co/ARGHbsFn3V http://t.co/mBnEVL5lDR\n",
      "RT @CHSommers: #GamerGate is diverse.Lots of lefties,liberals, &amp; moderates. When @Gawker or @washingtonpost attack, they attack own readers…\n",
      "RT @Ncrdrg: I thought this funny comic was somewhat relevant to our situation. #GamerGate http://t.co/zqHG6VB8NR\n",
      "RT @wikileaks: #GamerGate'ers should know that the pattern of censorship &amp; cronyism they see is mirrored at the very top. Level up: https:/…\n",
      "RT @TVTokyoBen: Journos: your narrative is a lie. No matter big the lie; no matter how many media orgs you enlist in telling it. #gamergate\n",
      "RT @CHSommers: #GamerGate is diverse.Lots of lefties,liberals, &amp; moderates. When @Gawker or @washingtonpost attack, they attack own readers…\n",
      "RT @lizzyf620: 2 separate emails confirm.\n",
      "THANK YOU @bmw for standing up to bullies!!\n",
      "@Gawker \n",
      "#gamergate\n",
      "\n",
      "http://t.co/oOH3jriWsD\n",
      "RT @gameinformer: Game Informer's Stance on #GamerGate http://t.co/e8dmPCidXu http://t.co/VFm3OrllFP\n",
      "RT @Brad_D80: Still lying about #GamerGate. At this point they cant claim they just dont understand, @msnbc is malicious now. http://t.co/R…\n",
      "@megaspacepanda I refuse to financially support anyone who denies the voices of minorities. #GamerGate #NotYourShield http://t.co/pi8ikncdrJ\n",
      "RT @Hazerion: @TheMagicLemur yeah, but to generalize it as whole #GamerGate ? Also its not called #GamerGate until the gamers are dead arti…\n",
      "@StaticVariable @BenjyR01 @The_Nimbus_ @xela_nut #GamerGate...from a dev's viewpoint. http://t.co/hJzW1AqcXb\n",
      "Think you're tired of #GamerGate? Imagine what it's like living with that shit every. damn. day of your life. Yeah, we're sick of it, too.\n",
      "RT @Homulillies: If @Kotaku is tired of #GamerGate already I can't wait until we reach christmass.\n",
      "@waxpancake \n",
      "#GamerGate\n",
      "#TheFireRises http://t.co/L2ceaaZs9m\n",
      "RT @jessesingal: Yesterday I wrote a Reddit post a/b #GamerGate and it went semi-viral and here's a full-blown article adaptation  http://t…\n",
      "So Long #Gamergate. What Did You Teach Us? http://t.co/mNN0dTFIfm #Tech (via @TechQ_tl)\n",
      "RT @THB_STX: What #GamerGate &amp; #NotYourShield want?\n",
      "THIS : \n",
      "You don't agree? Then don't spread hate with the #GamerGate hash. http://t.co/u…\n",
      "RT @Brad_D80: Still lying about #GamerGate. At this point they cant claim they just dont understand, @msnbc is malicious now. http://t.co/R…\n",
      "RT @Nero: I swear I'm not making this up: my phone corrects \"third-wave feminism\" to \"third-rate feminism\" #GamerGate\n",
      "RT @Ncrdrg: I thought this funny comic was somewhat relevant to our situation. #GamerGate http://t.co/zqHG6VB8NR\n",
      "RT @SabrinaLianne: Vice has new #GamerGate article which shows they're firmly in the 'bargaining' stage &amp; has slight change of tone &gt;&gt; http…\n",
      "@megaspacepanda You're not, but, you need to stop bringing identity politics into a discussion about journalitic ethics. #GamerGate\n",
      "RT @TheIvyClover1: KOTAKU YOU TIRED OF #GamerGate\n",
      "\n",
      "YOU SOUND MAD OVER LOSING :3\n",
      "\n",
      "https://t.co/CgebDUCvxP\n",
      "\n",
      "FUCK YOUR CLICKBAIT AND LACK OF E…\n",
      "@megaspacepanda As it stands, #notyourpersonalarmy #gamergate #notyourshield. We do not fund self-destructive individuals. Period.\n",
      "RT @madcapscience: For the love of god STOP ADDING THE WORD GATE TO THINGS.  IT MAKES YOU LOOK STUPID #tabletopgate #gamergate #elevatorgat…\n",
      "RT @TechnicallyRon: #GamerGate http://t.co/0ZgfxTLGWc\n",
      "RT @Terra_GS: I won't tell you why #GamerGate is a good thing or why you should support it, just that I have my reasons and so does everyon…\n",
      "RT @An_ca_te: So far no reaction by Joss Whedon to my challenge to support charity. Might be an opportunist after all. #GamerGate\n",
      "RT @LibertarianBlue: #GamerGate has turned the tactics of the authoritarian left against it: http://t.co/Ups5W5odLH\n",
      "@DioWallachia @TFYCapitalists Might be time for #Gamergate to get involved if they have an answer?\n",
      "RT @Androlphegax: #GamerGate Power to the gamer http://t.co/NWzLjgygHd #NotYourShield\n",
      "@RogueStarGamez @whisthiseven @wikileaks Fine then..I'm taking my #Gamergate home and you can play by yourself.\n",
      ".@CHSommers #GamerGate this sound accurate to you?  Media corruption/bias/agenda goes far beyond the gaming press... http://t.co/7eJOz78gpq\n",
      "RT @Sen_Armstrong: #GamerGate &amp; #NotYourShield \n",
      "See this pic? Be respectful and polite w/ TMobile and focus on the main points here. http:/…\n",
      "Anyone who claims #GamerGate is a \"right-wing hate group\" is stupid and hasn't been paying attention... or thinks that of you.\n",
      "@xvoodoochildx1 @mundanematt @Kingofpol @Sargon_of_Akkad @Rinaxas \n",
      "http://t.co/fy9gZhgFIA\n",
      "BOOM \n",
      "#GamerGate\n",
      "RT @CHSommers: #GamerGate is diverse.Lots of lefties,liberals, &amp; moderates. When @Gawker or @washingtonpost attack, they attack own readers…\n",
      "RT @TheRalphRetort: STORY UPDATED: Gawker's @max_read tries to bully @CHSommers with sexist comment. http://t.co/7ZOBTXmTzJ\n",
      "\n",
      "#GamerGate htt…\n"
     ]
    }
   ],
   "source": [
    "from twython import Twython\n",
    "\n",
    "CONSUMER_KEY = \"48r56upQvsnTiSDfY4CNwIpCQ\"\n",
    "CONSUMER_SECRET = \"VqZhFW7GqogdKXJnpuS0umVe211bFgoCdaQlRdRMayvrbdDh3k\"\n",
    "OAUTH_TOKEN = \"18000528-Scl8a1pLinqP4KWtaa3f8EN0M1vqAGTyYXMtsLIGm\"\n",
    "OAUTH_TOKEN_SECRET = \"NcIvLeqVbwwBegabvo7946FVIaDN0CAaJ7aS2aV7pZFzC\"\n",
    "\n",
    "twitter = Twython(\n",
    "    CONSUMER_KEY, CONSUMER_SECRET,\n",
    "    OAUTH_TOKEN, OAUTH_TOKEN_SECRET)\n",
    "\n",
    "tweet = twitter.lookup_status(id=current)\n",
    "for t in tweet:\n",
    "    print t['text']"
   ]
  },
  {
   "cell_type": "code",
   "execution_count": null,
   "metadata": {
    "collapsed": true
   },
   "outputs": [],
   "source": []
  }
 ],
 "metadata": {
  "kernelspec": {
   "display_name": "Python 2",
   "language": "python",
   "name": "python2"
  },
  "language_info": {
   "codemirror_mode": {
    "name": "ipython",
    "version": 2
   },
   "file_extension": ".py",
   "mimetype": "text/x-python",
   "name": "python",
   "nbconvert_exporter": "python",
   "pygments_lexer": "ipython2",
   "version": "2.7.11"
  }
 },
 "nbformat": 4,
 "nbformat_minor": 0
}
