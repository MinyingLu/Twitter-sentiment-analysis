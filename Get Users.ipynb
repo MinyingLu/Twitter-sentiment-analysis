{
 "cells": [
  {
   "cell_type": "code",
   "execution_count": 16,
   "metadata": {
    "collapsed": false
   },
   "outputs": [],
   "source": [
    "#get dataframe of tweet_id and user_id\n",
    "import pandas\n",
    "import csv\n",
    "from twython import Twython\n",
    "import time\n",
    "from collections import defaultdict\n",
    "\n",
    "df = pandas.read_csv('gamergate_tweets.csv')\n",
    "user_ids = df['user_id'].tolist()[:5000]\n",
    "\n",
    "# Consumer & Auth keys and tokens for authentication\n",
    "CONSUMER_KEY = \"48r56upQvsnTiSDfY4CNwIpCQ\"\n",
    "CONSUMER_SECRET = \"VqZhFW7GqogdKXJnpuS0umVe211bFgoCdaQlRdRMayvrbdDh3k\"\n",
    "OAUTH_TOKEN = \"18000528-Scl8a1pLinqP4KWtaa3f8EN0M1vqAGTyYXMtsLIGm\"\n",
    "OAUTH_TOKEN_SECRET = \"NcIvLeqVbwwBegabvo7946FVIaDN0CAaJ7aS2aV7pZFzC\"\n",
    "\n",
    "twitter = Twython(\n",
    "    CONSUMER_KEY, CONSUMER_SECRET,\n",
    "    OAUTH_TOKEN, OAUTH_TOKEN_SECRET)\n",
    "\n",
    "# check rate limit\n",
    "# twitter.get_application_rate_limit_status()['resources']['followers']"
   ]
  },
  {
   "cell_type": "code",
   "execution_count": 47,
   "metadata": {
    "collapsed": false
   },
   "outputs": [],
   "source": [
    "# GET followers/list\n",
    "def get_follower_list(twitter, user_id):\n",
    "    followers = []\n",
    "    cursored = twitter.cursor(twitter.get_followers_list, id=user_id)\n",
    "    for follower in cursored:\n",
    "        followers.append(follower)\n",
    "    return followers\n",
    "\n",
    "# GET users/lookup\n",
    "def get_user_lookup(twitter, current):\n",
    "    user_obj = twitter.lookup_user(user_id=current)\n",
    "    return user_obj\n",
    "    \n",
    "# GET followers/ids\n",
    "def get_follower_ids(twitter, user_id):\n",
    "    followers = []\n",
    "    cursored = twitter.cursor(twitter.get_followers_ids, id=user_id)\n",
    "    for follower in cursored:\n",
    "        followers.append(follower)\n",
    "    return followers"
   ]
  },
  {
   "cell_type": "code",
   "execution_count": null,
   "metadata": {
    "collapsed": true
   },
   "outputs": [],
   "source": [
    "user_list = []\n",
    "start = 0\n",
    "end = 100\n",
    "while end <= 5000:\n",
    "    current = user_ids[start:end]\n",
    "    start += 100\n",
    "    end += 100\n",
    "    users = get_user_lookup(twitter, current)\n",
    "    for i in range(0, len(users)):\n",
    "        each_user = []\n",
    "        each_user.append(user_ids[i]) # user[0] = user_id\n",
    "        each_user.append(users[i]['followers_count']) # user[1] = follower count\n",
    "        each_user.append(users[i][\"favourites_count\"])\n",
    "        user_list.append(each_user)"
   ]
  },
  {
   "cell_type": "code",
   "execution_count": 18,
   "metadata": {
    "collapsed": false
   },
   "outputs": [],
   "source": [
    "users_df = pandas.DataFrame(user_list, columns=[\"User ID\", \"Follower Count\", \"Favourites Count\"])\n",
    "                \n",
    "#print users_df.sort_values([\"Follower Count\", \"Favourites Count\",], ascending=[False, False])"
   ]
  },
  {
   "cell_type": "code",
   "execution_count": 61,
   "metadata": {
    "collapsed": false
   },
   "outputs": [
    {
     "name": "stdout",
     "output_type": "stream",
     "text": [
      "14\n",
      "13\n",
      "11\n",
      "10\n",
      "9\n",
      "8\n",
      "7\n",
      "3\n",
      "2\n",
      "1\n",
      "start waiting\n",
      "done waiting\n",
      "15\n",
      "14\n",
      "13\n",
      "12\n",
      "11\n",
      "10\n",
      "9\n",
      "8\n",
      "6\n",
      "5\n",
      "4\n",
      "0 []\n"
     ]
    }
   ],
   "source": [
    "# popular user_id list:\n",
    "#           [-4, -4, -4, -4, -4, 3, ]\n",
    "pop_users = [1498976455, 16088388, 2368624716, 1317712621, 2801289353, \n",
    "             2756744663, 857720059, 24610050, 2790717530, 854203626, 115601411,\n",
    "             2788941283, 2806358985, 47622504, 33128909, 2837175356, 104519838, \n",
    "             34283550, 1499808391, 356199261, 574962273]\n",
    "\n",
    "follower_ids = defaultdict(list)\n",
    "count = 0\n",
    "remaining = twitter.get_application_rate_limit_status()['resources']['followers']['/followers/ids']['remaining']\n",
    "for user in pop_users:\n",
    "    if remaining <= 1:\n",
    "        print \"start waiting\"\n",
    "        time.sleep(1000)\n",
    "        print \"done waiting\"\n",
    "        remaining = twitter.get_application_rate_limit_status()['resources']['followers']['/followers/ids']['remaining']\n",
    "        print remaining\n",
    "    else:\n",
    "        follower_ids[user] = get_follower_ids(twitter, user)\n",
    "        count += 1\n",
    "        remaining = twitter.get_application_rate_limit_status()['resources']['followers']['/followers/ids']['remaining']\n",
    "        print remaining\n",
    "    \n",
    "print len(follower_lists), follower_lists.keys()"
   ]
  },
  {
   "cell_type": "code",
   "execution_count": 60,
   "metadata": {
    "collapsed": false
   },
   "outputs": [
    {
     "name": "stdout",
     "output_type": "stream",
     "text": [
      "15\n"
     ]
    }
   ],
   "source": [
    "print twitter.get_application_rate_limit_status()['resources']['followers']['/followers/ids']['remaining']"
   ]
  },
  {
   "cell_type": "code",
   "execution_count": 34,
   "metadata": {
    "collapsed": false
   },
   "outputs": [
    {
     "name": "stdout",
     "output_type": "stream",
     "text": [
      "done sleeping\n"
     ]
    }
   ],
   "source": []
  },
  {
   "cell_type": "code",
   "execution_count": null,
   "metadata": {
    "collapsed": true
   },
   "outputs": [],
   "source": []
  }
 ],
 "metadata": {
  "kernelspec": {
   "display_name": "Python 2",
   "language": "python",
   "name": "python2"
  },
  "language_info": {
   "codemirror_mode": {
    "name": "ipython",
    "version": 2
   },
   "file_extension": ".py",
   "mimetype": "text/x-python",
   "name": "python",
   "nbconvert_exporter": "python",
   "pygments_lexer": "ipython2",
   "version": "2.7.11"
  }
 },
 "nbformat": 4,
 "nbformat_minor": 0
}
