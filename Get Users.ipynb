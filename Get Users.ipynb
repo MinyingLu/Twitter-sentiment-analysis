{
 "cells": [
  {
   "cell_type": "code",
   "execution_count": 59,
   "metadata": {
    "collapsed": false
   },
   "outputs": [],
   "source": [
    "#get dataframe of tweet_id and user_id\n",
    "import pandas\n",
    "import csv\n",
    "from twython import Twython\n",
    "\n",
    "df = pandas.read_csv('gamergate_tweets.csv')\n",
    "user_ids = df['user_id'].tolist()[:5000]\n",
    "\n",
    "# Consumer & Auth keys and tokens for authentication\n",
    "CONSUMER_KEY = \"48r56upQvsnTiSDfY4CNwIpCQ\"\n",
    "CONSUMER_SECRET = \"VqZhFW7GqogdKXJnpuS0umVe211bFgoCdaQlRdRMayvrbdDh3k\"\n",
    "OAUTH_TOKEN = \"18000528-Scl8a1pLinqP4KWtaa3f8EN0M1vqAGTyYXMtsLIGm\"\n",
    "OAUTH_TOKEN_SECRET = \"NcIvLeqVbwwBegabvo7946FVIaDN0CAaJ7aS2aV7pZFzC\"\n",
    "\n",
    "twitter = Twython(\n",
    "    CONSUMER_KEY, CONSUMER_SECRET,\n",
    "    OAUTH_TOKEN, OAUTH_TOKEN_SECRET)\n"
   ]
  },
  {
   "cell_type": "code",
   "execution_count": 58,
   "metadata": {
    "collapsed": false
   },
   "outputs": [
    {
     "name": "stdout",
     "output_type": "stream",
     "text": [
      "100\n",
      "100\n",
      "100\n",
      "100\n",
      "100\n",
      "100\n",
      "100\n",
      "100\n",
      "100\n",
      "100\n",
      "100\n",
      "100\n",
      "100\n",
      "100\n",
      "100\n",
      "100\n",
      "100\n",
      "100\n",
      "100\n",
      "100\n",
      "100\n",
      "100\n",
      "100\n",
      "100\n",
      "100\n",
      "0\n"
     ]
    },
    {
     "ename": "TwythonError",
     "evalue": "Twitter API returned a 404 (Not Found), No user matches for specified terms.",
     "output_type": "error",
     "traceback": [
      "\u001b[0;31m---------------------------------------------------------------------------\u001b[0m",
      "\u001b[0;31mTwythonError\u001b[0m                              Traceback (most recent call last)",
      "\u001b[0;32m<ipython-input-58-5f1be26dfac0>\u001b[0m in \u001b[0;36m<module>\u001b[0;34m()\u001b[0m\n\u001b[1;32m     24\u001b[0m     \u001b[0mstart\u001b[0m \u001b[0;34m+=\u001b[0m \u001b[0;36m100\u001b[0m\u001b[0;34m\u001b[0m\u001b[0m\n\u001b[1;32m     25\u001b[0m     \u001b[0mend\u001b[0m \u001b[0;34m+=\u001b[0m \u001b[0;36m100\u001b[0m\u001b[0;34m\u001b[0m\u001b[0m\n\u001b[0;32m---> 26\u001b[0;31m     \u001b[0musers\u001b[0m \u001b[0;34m=\u001b[0m \u001b[0mget_user_lookup\u001b[0m\u001b[0;34m(\u001b[0m\u001b[0mtwitter\u001b[0m\u001b[0;34m,\u001b[0m \u001b[0mcurrent\u001b[0m\u001b[0;34m)\u001b[0m\u001b[0;34m\u001b[0m\u001b[0m\n\u001b[0m\u001b[1;32m     27\u001b[0m     \u001b[0;32mfor\u001b[0m \u001b[0mi\u001b[0m \u001b[0;32min\u001b[0m \u001b[0mrange\u001b[0m\u001b[0;34m(\u001b[0m\u001b[0;36m0\u001b[0m\u001b[0;34m,\u001b[0m \u001b[0mlen\u001b[0m\u001b[0;34m(\u001b[0m\u001b[0musers\u001b[0m\u001b[0;34m)\u001b[0m\u001b[0;34m)\u001b[0m\u001b[0;34m:\u001b[0m\u001b[0;34m\u001b[0m\u001b[0m\n\u001b[1;32m     28\u001b[0m         \u001b[0meach_user\u001b[0m \u001b[0;34m=\u001b[0m \u001b[0;34m[\u001b[0m\u001b[0;34m]\u001b[0m\u001b[0;34m\u001b[0m\u001b[0m\n",
      "\u001b[0;32m<ipython-input-58-5f1be26dfac0>\u001b[0m in \u001b[0;36mget_user_lookup\u001b[0;34m(twitter, current)\u001b[0m\n\u001b[1;32m      9\u001b[0m \u001b[0;31m# GET users/lookup\u001b[0m\u001b[0;34m\u001b[0m\u001b[0;34m\u001b[0m\u001b[0m\n\u001b[1;32m     10\u001b[0m \u001b[0;32mdef\u001b[0m \u001b[0mget_user_lookup\u001b[0m\u001b[0;34m(\u001b[0m\u001b[0mtwitter\u001b[0m\u001b[0;34m,\u001b[0m \u001b[0mcurrent\u001b[0m\u001b[0;34m)\u001b[0m\u001b[0;34m:\u001b[0m\u001b[0;34m\u001b[0m\u001b[0m\n\u001b[0;32m---> 11\u001b[0;31m     \u001b[0muser_obj\u001b[0m \u001b[0;34m=\u001b[0m \u001b[0mtwitter\u001b[0m\u001b[0;34m.\u001b[0m\u001b[0mlookup_user\u001b[0m\u001b[0;34m(\u001b[0m\u001b[0muser_id\u001b[0m\u001b[0;34m=\u001b[0m\u001b[0mcurrent\u001b[0m\u001b[0;34m)\u001b[0m\u001b[0;34m\u001b[0m\u001b[0m\n\u001b[0m\u001b[1;32m     12\u001b[0m     \u001b[0;32mreturn\u001b[0m \u001b[0muser_obj\u001b[0m\u001b[0;34m\u001b[0m\u001b[0m\n\u001b[1;32m     13\u001b[0m \u001b[0;34m\u001b[0m\u001b[0m\n",
      "\u001b[0;32m/Users/Minying/envs/cs591-datamining/lib/python2.7/site-packages/twython/endpoints.pyc\u001b[0m in \u001b[0;36mlookup_user\u001b[0;34m(self, **params)\u001b[0m\n\u001b[1;32m    459\u001b[0m \u001b[0;34m\u001b[0m\u001b[0m\n\u001b[1;32m    460\u001b[0m         \"\"\"\n\u001b[0;32m--> 461\u001b[0;31m         \u001b[0;32mreturn\u001b[0m \u001b[0mself\u001b[0m\u001b[0;34m.\u001b[0m\u001b[0mget\u001b[0m\u001b[0;34m(\u001b[0m\u001b[0;34m'users/lookup'\u001b[0m\u001b[0;34m,\u001b[0m \u001b[0mparams\u001b[0m\u001b[0;34m=\u001b[0m\u001b[0mparams\u001b[0m\u001b[0;34m)\u001b[0m\u001b[0;34m\u001b[0m\u001b[0m\n\u001b[0m\u001b[1;32m    462\u001b[0m \u001b[0;34m\u001b[0m\u001b[0m\n\u001b[1;32m    463\u001b[0m     \u001b[0;32mdef\u001b[0m \u001b[0mshow_user\u001b[0m\u001b[0;34m(\u001b[0m\u001b[0mself\u001b[0m\u001b[0;34m,\u001b[0m \u001b[0;34m**\u001b[0m\u001b[0mparams\u001b[0m\u001b[0;34m)\u001b[0m\u001b[0;34m:\u001b[0m\u001b[0;34m\u001b[0m\u001b[0m\n",
      "\u001b[0;32m/Users/Minying/envs/cs591-datamining/lib/python2.7/site-packages/twython/api.pyc\u001b[0m in \u001b[0;36mget\u001b[0;34m(self, endpoint, params, version)\u001b[0m\n\u001b[1;32m    263\u001b[0m     \u001b[0;32mdef\u001b[0m \u001b[0mget\u001b[0m\u001b[0;34m(\u001b[0m\u001b[0mself\u001b[0m\u001b[0;34m,\u001b[0m \u001b[0mendpoint\u001b[0m\u001b[0;34m,\u001b[0m \u001b[0mparams\u001b[0m\u001b[0;34m=\u001b[0m\u001b[0mNone\u001b[0m\u001b[0;34m,\u001b[0m \u001b[0mversion\u001b[0m\u001b[0;34m=\u001b[0m\u001b[0;34m'1.1'\u001b[0m\u001b[0;34m)\u001b[0m\u001b[0;34m:\u001b[0m\u001b[0;34m\u001b[0m\u001b[0m\n\u001b[1;32m    264\u001b[0m         \u001b[0;34m\"\"\"Shortcut for GET requests via :class:`request`\"\"\"\u001b[0m\u001b[0;34m\u001b[0m\u001b[0m\n\u001b[0;32m--> 265\u001b[0;31m         \u001b[0;32mreturn\u001b[0m \u001b[0mself\u001b[0m\u001b[0;34m.\u001b[0m\u001b[0mrequest\u001b[0m\u001b[0;34m(\u001b[0m\u001b[0mendpoint\u001b[0m\u001b[0;34m,\u001b[0m \u001b[0mparams\u001b[0m\u001b[0;34m=\u001b[0m\u001b[0mparams\u001b[0m\u001b[0;34m,\u001b[0m \u001b[0mversion\u001b[0m\u001b[0;34m=\u001b[0m\u001b[0mversion\u001b[0m\u001b[0;34m)\u001b[0m\u001b[0;34m\u001b[0m\u001b[0m\n\u001b[0m\u001b[1;32m    266\u001b[0m \u001b[0;34m\u001b[0m\u001b[0m\n\u001b[1;32m    267\u001b[0m     \u001b[0;32mdef\u001b[0m \u001b[0mpost\u001b[0m\u001b[0;34m(\u001b[0m\u001b[0mself\u001b[0m\u001b[0;34m,\u001b[0m \u001b[0mendpoint\u001b[0m\u001b[0;34m,\u001b[0m \u001b[0mparams\u001b[0m\u001b[0;34m=\u001b[0m\u001b[0mNone\u001b[0m\u001b[0;34m,\u001b[0m \u001b[0mversion\u001b[0m\u001b[0;34m=\u001b[0m\u001b[0;34m'1.1'\u001b[0m\u001b[0;34m)\u001b[0m\u001b[0;34m:\u001b[0m\u001b[0;34m\u001b[0m\u001b[0m\n",
      "\u001b[0;32m/Users/Minying/envs/cs591-datamining/lib/python2.7/site-packages/twython/api.pyc\u001b[0m in \u001b[0;36mrequest\u001b[0;34m(self, endpoint, method, params, version)\u001b[0m\n\u001b[1;32m    257\u001b[0m \u001b[0;34m\u001b[0m\u001b[0m\n\u001b[1;32m    258\u001b[0m         content = self._request(url, method=method, params=params,\n\u001b[0;32m--> 259\u001b[0;31m                                 api_call=url)\n\u001b[0m\u001b[1;32m    260\u001b[0m \u001b[0;34m\u001b[0m\u001b[0m\n\u001b[1;32m    261\u001b[0m         \u001b[0;32mreturn\u001b[0m \u001b[0mcontent\u001b[0m\u001b[0;34m\u001b[0m\u001b[0m\n",
      "\u001b[0;32m/Users/Minying/envs/cs591-datamining/lib/python2.7/site-packages/twython/api.pyc\u001b[0m in \u001b[0;36m_request\u001b[0;34m(self, url, method, params, api_call)\u001b[0m\n\u001b[1;32m    196\u001b[0m                 \u001b[0merror_message\u001b[0m\u001b[0;34m,\u001b[0m\u001b[0;34m\u001b[0m\u001b[0m\n\u001b[1;32m    197\u001b[0m                 \u001b[0merror_code\u001b[0m\u001b[0;34m=\u001b[0m\u001b[0mresponse\u001b[0m\u001b[0;34m.\u001b[0m\u001b[0mstatus_code\u001b[0m\u001b[0;34m,\u001b[0m\u001b[0;34m\u001b[0m\u001b[0m\n\u001b[0;32m--> 198\u001b[0;31m                 retry_after=response.headers.get('X-Rate-Limit-Reset'))\n\u001b[0m\u001b[1;32m    199\u001b[0m \u001b[0;34m\u001b[0m\u001b[0m\n\u001b[1;32m    200\u001b[0m         \u001b[0;32mtry\u001b[0m\u001b[0;34m:\u001b[0m\u001b[0;34m\u001b[0m\u001b[0m\n",
      "\u001b[0;31mTwythonError\u001b[0m: Twitter API returned a 404 (Not Found), No user matches for specified terms."
     ]
    }
   ],
   "source": [
    "# GET followers/list\n",
    "def get_follower_list(twitter, user_id):\n",
    "    followers = []\n",
    "    cursored = twitter.cursor(twitter.get_followers_ids, id=user_id)\n",
    "    for follower in cursored:\n",
    "        followers.append(follower)\n",
    "    return followers\n",
    "\n",
    "# GET users/lookup\n",
    "def get_user_lookup(twitter, current):\n",
    "    user_obj = twitter.lookup_user(user_id=current)\n",
    "    return user_obj\n",
    "    \n",
    "# get rate limits\n",
    "# status = twitter.get_application_rate_limit_status()\n",
    "# print status[\"resources\"][\"users\"]['/users/lookup']\n",
    "\n",
    "user_list = []\n",
    "start = 0\n",
    "end = 100\n",
    "while end <= 5000:\n",
    "    current = user_ids[start:end]\n",
    "    print len(current)\n",
    "    start += 100\n",
    "    end += 100\n",
    "    users = get_user_lookup(twitter, current)\n",
    "    for i in range(0, len(users)):\n",
    "        each_user = []\n",
    "        each_user.append(user_ids[i]) # user[0] = user_id\n",
    "        each_user.append(users[i]['followers_count']) # user[1] = follower count\n",
    "        each_user.append(users[i][\"favourites_count\"])\n",
    "        user_list.append(each_user)"
   ]
  },
  {
   "cell_type": "code",
   "execution_count": 54,
   "metadata": {
    "collapsed": false
   },
   "outputs": [
    {
     "name": "stdout",
     "output_type": "stream",
     "text": [
      "       User ID  Follower Count  Favourites Count\n",
      "7    513001579           15622               228\n",
      "22  2837972170            5445              1671\n",
      "50   992871366            5159              9086\n",
      "37  2787101798            4768             33110\n",
      "40   265220205            3695             48253\n",
      "8    162572003            3174             19431\n",
      "24  1655032075            2941             29450\n",
      "62   142413785            2186             20988\n",
      "20  2835488103            2126              9459\n",
      "5   2772953185            2124             19595\n",
      "35  2779761240            2045             53027\n",
      "32   468841864            1797              1834\n",
      "29   262538589            1654             18204\n",
      "21  1043436650            1574              2450\n",
      "31   486160284            1550             71740\n",
      "25   205618606            1475             28391\n",
      "6   2683063328            1430              2675\n",
      "67  1091189214            1194             19799\n",
      "12   486160284            1145              1287\n",
      "36    14747206            1135               323\n",
      "17   171848975            1129                78\n",
      "26    35277914            1126             10164\n",
      "56   124578566            1084              8736\n",
      "0   1464599533            1037             14092\n",
      "2     19932466             946              6844\n",
      "44  2590712055             935             24704\n",
      "57  2793807454             851              3054\n",
      "42  2423739066             822             10810\n",
      "52   142413785             789              7844\n",
      "66  2598183050             712               861\n",
      "..         ...             ...               ...\n",
      "48  1004731904             450              5648\n",
      "38  2847688135             386               822\n",
      "27  1858786956             361             47659\n",
      "15  2793171236             348               430\n",
      "28  2790540392             341              2388\n",
      "61  2430476576             286               654\n",
      "10    16641565             279              8525\n",
      "16    18623405             279              6647\n",
      "43  2492324996             263                86\n",
      "30  2798609018             261                 1\n",
      "18  2549103608             245               422\n",
      "58  2774051122             215               816\n",
      "46   251045973             214              7909\n",
      "60   489234794             205             28567\n",
      "71   985889652             202               894\n",
      "54   308407039             181              1083\n",
      "41    16289608             131              2460\n",
      "51  2815279566             119                79\n",
      "68   171848975             111               750\n",
      "1   1435309448              81                 0\n",
      "14  2323141220              72                39\n",
      "73  2845238149              65                19\n",
      "13    18746944              59               145\n",
      "47  2787101798              54              1674\n",
      "3    940132086              53               526\n",
      "53  2423739066              38             11682\n",
      "9   2826306403              20               261\n",
      "70   588226577              15               401\n",
      "65   308407039               5                76\n",
      "34   356199261               3               548\n",
      "\n",
      "[75 rows x 3 columns]\n"
     ]
    }
   ],
   "source": [
    "users_df = pandas.DataFrame(user_list, columns=[\"User ID\", \"Follower Count\", \"Favourites Count\"])\n",
    "                \n",
    "print users_df.sort_values([\"Follower Count\", \"Favourites Count\",], ascending=[False, False])"
   ]
  },
  {
   "cell_type": "code",
   "execution_count": null,
   "metadata": {
    "collapsed": true
   },
   "outputs": [],
   "source": []
  }
 ],
 "metadata": {
  "kernelspec": {
   "display_name": "Python 2",
   "language": "python",
   "name": "python2"
  },
  "language_info": {
   "codemirror_mode": {
    "name": "ipython",
    "version": 2
   },
   "file_extension": ".py",
   "mimetype": "text/x-python",
   "name": "python",
   "nbconvert_exporter": "python",
   "pygments_lexer": "ipython2",
   "version": "2.7.11"
  }
 },
 "nbformat": 4,
 "nbformat_minor": 0
}
