{
 "cells": [
  {
   "cell_type": "code",
   "execution_count": 1,
   "metadata": {
    "collapsed": false
   },
   "outputs": [],
   "source": [
    "#get dataframe of tweet_id and user_id\n",
    "import pandas\n",
    "import csv\n",
    "from twython import Twython\n",
    "\n",
    "df = pandas.read_csv('gamergate_tweets.csv')\n",
    "user_ids = df['user_id'].tolist()[:5000]\n",
    "\n",
    "# Consumer & Auth keys and tokens for authentication\n",
    "CONSUMER_KEY = \"48r56upQvsnTiSDfY4CNwIpCQ\"\n",
    "CONSUMER_SECRET = \"VqZhFW7GqogdKXJnpuS0umVe211bFgoCdaQlRdRMayvrbdDh3k\"\n",
    "OAUTH_TOKEN = \"18000528-Scl8a1pLinqP4KWtaa3f8EN0M1vqAGTyYXMtsLIGm\"\n",
    "OAUTH_TOKEN_SECRET = \"NcIvLeqVbwwBegabvo7946FVIaDN0CAaJ7aS2aV7pZFzC\"\n",
    "\n",
    "twitter = Twython(\n",
    "    CONSUMER_KEY, CONSUMER_SECRET,\n",
    "    OAUTH_TOKEN, OAUTH_TOKEN_SECRET)\n"
   ]
  },
  {
   "cell_type": "code",
   "execution_count": 2,
   "metadata": {
    "collapsed": false
   },
   "outputs": [],
   "source": [
    "# GET followers/list\n",
    "def get_follower_list(twitter, user_id):\n",
    "    followers = []\n",
    "    cursored = twitter.cursor(twitter.get_followers_ids, id=user_id)\n",
    "    for follower in cursored:\n",
    "        followers.append(follower)\n",
    "    return followers\n",
    "\n",
    "# GET users/lookup\n",
    "def get_user_lookup(twitter, current):\n",
    "    user_obj = twitter.lookup_user(user_id=current)\n",
    "    return user_obj\n",
    "    \n",
    "# get rate limits\n",
    "# status = twitter.get_application_rate_limit_status()\n",
    "# print status[\"resources\"][\"users\"]['/users/lookup']\n",
    "\n",
    "user_list = []\n",
    "start = 0\n",
    "end = 100\n",
    "while end <= 5000:\n",
    "    current = user_ids[start:end]\n",
    "    start += 100\n",
    "    end += 100\n",
    "    users = get_user_lookup(twitter, current)\n",
    "    for i in range(0, len(users)):\n",
    "        each_user = []\n",
    "        each_user.append(user_ids[i]) # user[0] = user_id\n",
    "        each_user.append(users[i]['followers_count']) # user[1] = follower count\n",
    "        each_user.append(users[i][\"favourites_count\"])\n",
    "        user_list.append(each_user)"
   ]
  },
  {
   "cell_type": "code",
   "execution_count": 3,
   "metadata": {
    "collapsed": false
   },
   "outputs": [
    {
     "name": "stdout",
     "output_type": "stream",
     "text": [
      "         User ID  Follower Count  Favourites Count\n",
      "1997  1004731904          224069              6977\n",
      "328     26258609          104852             43600\n",
      "777   2774051122           86819              1586\n",
      "549   2423739066           86565             11490\n",
      "1556    22655375           86565             11490\n",
      "189     26258609           68680             25909\n",
      "1358  1004731904           68680             25909\n",
      "2710   992871366           68680             25909\n",
      "3557   262538589           68680             25909\n",
      "229   2756873076           57753              1310\n",
      "1388   162572003           57405              2809\n",
      "2084   775543549           55073              2634\n",
      "2096  2772953185           55073              2634\n",
      "2492   992871366           55073              2634\n",
      "2935   142413785           52133             17279\n",
      "2460  2549103608           39487             31725\n",
      "3392  2826306403           39487             31725\n",
      "736    171848975           34020             39777\n",
      "2567   992871366           32998             11113\n",
      "2779  2787101798           32998             11113\n",
      "3168    19932466           32998             11113\n",
      "1841  2787101798           30517             32094\n",
      "415   2430476576           30391             79913\n",
      "583   2756873076           30391             79913\n",
      "978   2779761240           30391             79913\n",
      "3293  2793807454           30391             79913\n",
      "3580   142413785           30391             79913\n",
      "2542   205618606           28308               388\n",
      "937   1091189214           26794             16457\n",
      "1043  1858786956           26794             16457\n",
      "...          ...             ...               ...\n",
      "2078  2774051122               8               449\n",
      "3244   162572003               8               376\n",
      "1920    26258609               8               104\n",
      "834   2787101798               8                79\n",
      "613     16289608               8                44\n",
      "1431  2815279566               8                 1\n",
      "2578  2430476576               8                 1\n",
      "2901  2549103608               8                 1\n",
      "1501  2423739066               7              1305\n",
      "3368   489234794               6               155\n",
      "210   2598183050               6                15\n",
      "65     308407039               5                76\n",
      "1389  2826306403               4               641\n",
      "1515   124578566               4               641\n",
      "155   2756873076               4                39\n",
      "1035    36790442               4                39\n",
      "1195   205618606               4                27\n",
      "510   2323141220               4                10\n",
      "1351    16289608               4                10\n",
      "3467  2756873076               4                10\n",
      "3483  1858786956               4                 7\n",
      "1482    22655375               4                 6\n",
      "34     356199261               3               548\n",
      "3018    93363347               3                 7\n",
      "2733  1435309448               2                13\n",
      "605   2835016336               2                 3\n",
      "927   2793807454               2                 2\n",
      "2608    16641565               1                 8\n",
      "1008   308407039               1                 5\n",
      "2670    16641565               0               277\n",
      "\n",
      "[3600 rows x 3 columns]\n"
     ]
    }
   ],
   "source": [
    "users_df = pandas.DataFrame(user_list, columns=[\"User ID\", \"Follower Count\", \"Favourites Count\"])\n",
    "                \n",
    "print users_df.sort_values([\"Follower Count\", \"Favourites Count\",], ascending=[False, False])"
   ]
  },
  {
   "cell_type": "code",
   "execution_count": null,
   "metadata": {
    "collapsed": true
   },
   "outputs": [],
   "source": []
  }
 ],
 "metadata": {
  "kernelspec": {
   "display_name": "Python 2",
   "language": "python",
   "name": "python2"
  },
  "language_info": {
   "codemirror_mode": {
    "name": "ipython",
    "version": 2
   },
   "file_extension": ".py",
   "mimetype": "text/x-python",
   "name": "python",
   "nbconvert_exporter": "python",
   "pygments_lexer": "ipython2",
   "version": "2.7.11"
  }
 },
 "nbformat": 4,
 "nbformat_minor": 0
}
